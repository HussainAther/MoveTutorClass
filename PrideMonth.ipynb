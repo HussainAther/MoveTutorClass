{
 "cells": [
  {
   "cell_type": "markdown",
   "id": "a5684c85",
   "metadata": {},
   "source": [
    "# Happy Pride Month\n",
    "\n",
    "Inspirational quote generator I created for Pride month. "
   ]
  },
  {
   "cell_type": "code",
   "execution_count": 3,
   "id": "5552f8cc",
   "metadata": {},
   "outputs": [
    {
     "name": "stdout",
     "output_type": "stream",
     "text": [
      "Happy Pride Month!\n",
      "Quote: You will not be punished for your anger, you will be punished by your anger.\n"
     ]
    }
   ],
   "source": [
    "import requests\n",
    "import random\n",
    "\n",
    "class PrideCelebration:\n",
    "    def __init__(self):\n",
    "        self.quote = self.get_random_quote()\n",
    "\n",
    "    def get_random_quote(self):\n",
    "        response = requests.get(\"https://type.fit/api/quotes\")\n",
    "        if response.status_code == 200:\n",
    "            quotes = response.json()\n",
    "            random_quote = random.choice(quotes)\n",
    "            return random_quote['text']\n",
    "        else:\n",
    "            return \"Spread love and happiness!\"\n",
    "\n",
    "    def celebrate(self):\n",
    "        print(\"Happy Pride Month!\")\n",
    "        print(f\"Quote: {self.quote}\")\n",
    "\n",
    "celebration = PrideCelebration()\n",
    "celebration.celebrate()\n"
   ]
  }
 ],
 "metadata": {
  "kernelspec": {
   "display_name": "Python 3 (ipykernel)",
   "language": "python",
   "name": "python3"
  },
  "language_info": {
   "codemirror_mode": {
    "name": "ipython",
    "version": 3
   },
   "file_extension": ".py",
   "mimetype": "text/x-python",
   "name": "python",
   "nbconvert_exporter": "python",
   "pygments_lexer": "ipython3",
   "version": "3.10.4"
  }
 },
 "nbformat": 4,
 "nbformat_minor": 5
}
