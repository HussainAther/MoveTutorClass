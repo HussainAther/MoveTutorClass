{
 "cells": [
  {
   "cell_type": "markdown",
   "metadata": {},
   "source": [
    "# Object Oriented Programming 2 - examples and APIs\n"
   ]
  },
  {
   "cell_type": "markdown",
   "metadata": {},
   "source": [
    "## Tasks Today:\n",
    "\n",
    "   \n",
    "\n",
    "1) <b>Shopping Cart Example</b> <br>\n",
    "2) <b>Requests and the pokemon API </b> <br>\n",
    " "
   ]
  },
  {
   "cell_type": "markdown",
   "metadata": {},
   "source": [
    "# Goal \n",
    "### build a shopping cart program with prices and quantities using objects and a dictionary"
   ]
  },
  {
   "cell_type": "code",
   "execution_count": null,
   "metadata": {},
   "outputs": [],
   "source": []
  },
  {
   "cell_type": "markdown",
   "metadata": {},
   "source": [
    "# working with APis"
   ]
  },
  {
   "cell_type": "markdown",
   "metadata": {},
   "source": [
    "<p> What exactly is an API? <br> <br>\n",
    "API is the acronym for Application Programming Interface, which is a software intermediary that allows two applications to talk to each other. Each time you use an app like Facebook, send an instant message, or check the weather on your phone, you're using an API. </p>"
   ]
  },
  {
   "cell_type": "markdown",
   "metadata": {},
   "source": [
    "### The Poke API  allows you to retreive a pokemon's information from PokeAPI https://pokeapi.co/\n",
    "\n"
   ]
  },
  {
   "cell_type": "code",
   "execution_count": null,
   "metadata": {},
   "outputs": [],
   "source": [
    "# making an API call\n",
    "import requests\n",
    "\n",
    "\n"
   ]
  },
  {
   "cell_type": "markdown",
   "metadata": {},
   "source": [
    "### Display a Pokemon's name, weight, abilities, and types"
   ]
  },
  {
   "cell_type": "code",
   "execution_count": null,
   "metadata": {},
   "outputs": [],
   "source": [
    "able_list = []\n",
    "\n",
    "for ability in data[\"abilities\"]:\n",
    "    able_list.append()\n",
    "\n",
    "abilities = [ability[\"ability\"][\"name\"] for ability in data[\"abilities\"]]"
   ]
  },
  {
   "cell_type": "markdown",
   "metadata": {},
   "source": [
    "#### Create a function to Pull in your own Pokemon's data "
   ]
  },
  {
   "cell_type": "code",
   "execution_count": 28,
   "metadata": {},
   "outputs": [
    {
     "name": "stdout",
     "output_type": "stream",
     "text": [
      "{'name': 'heracross', 'weight': 540, 'abilities': ['swarm', 'guts', 'moxie'], 'types': ['bug', 'fighting']}\n"
     ]
    }
   ],
   "source": [
    "import requests\n",
    "\n",
    "def poke_api_call(pokemon):\n",
    "    \"\"\"\n",
    "    Pokemon API call. \n",
    "    \"\"\"\n",
    "    req = requests.get(f\"https://pokeapi.co/api/v2/pokemon/{pokemon}\")\n",
    "    if req.status_code == 200:\n",
    "        data = req.json() \n",
    "        \n",
    "        name = data[\"name\"]\n",
    "        weight = data[\"weight\"]\n",
    "        abilities = [ability[\"ability\"][\"name\"] for ability in data[\"abilities\"]]\n",
    "        types = [type_[\"type\"][\"name\"] for type_ in data[\"types\"]]\n",
    "        \n",
    "        poke = {\n",
    "            \"name\": name,\n",
    "            \"weight\": weight,\n",
    "            \"abilities\": abilities,\n",
    "            \"types\": types\n",
    "        }\n",
    "        \n",
    "        return poke\n",
    "    \n",
    "print(poke_api_call(\"heracross\"))"
   ]
  },
  {
   "cell_type": "markdown",
   "metadata": {},
   "source": [
    "Choose your pokemon"
   ]
  },
  {
   "cell_type": "code",
   "execution_count": 11,
   "metadata": {},
   "outputs": [],
   "source": [
    "party = [\"eevee,\" \"flareon\", \"vaporeon\", \"jolteon\", \"umbreon\", \"espeon\"]"
   ]
  },
  {
   "cell_type": "markdown",
   "metadata": {},
   "source": [
    "#### Use your function to create a dictionary of your favorite 6 pokemon"
   ]
  },
  {
   "cell_type": "code",
   "execution_count": 32,
   "metadata": {},
   "outputs": [
    {
     "name": "stdout",
     "output_type": "stream",
     "text": [
      "{'Eevee,Flareon': None, 'Vaporeon': {'name': 'vaporeon', 'weight': 290, 'abilities': ['water-absorb', 'hydration'], 'types': ['water']}, 'Jolteon': {'name': 'jolteon', 'weight': 245, 'abilities': ['volt-absorb', 'quick-feet'], 'types': ['electric']}, 'Umbreon': {'name': 'umbreon', 'weight': 270, 'abilities': ['synchronize', 'inner-focus'], 'types': ['dark']}, 'Espeon': {'name': 'espeon', 'weight': 265, 'abilities': ['synchronize', 'magic-bounce'], 'types': ['psychic']}}\n"
     ]
    }
   ],
   "source": [
    "# # Place all 6 of your pokemon on the object below, each pokemon should have at least as much info as Pikachu did.\n",
    "# party = ['heracross', 'vaporeon', 'flygon', 'charizard', 'pidgeot', 'crobat']\n",
    "party = [\"eevee,\" \"flareon\", \"vaporeon\", \"jolteon\", \"umbreon\", \"espeon\"]\n",
    "\n",
    "\n",
    "def create_team(arr):\n",
    "    my_team = {}\n",
    "    for pokemon in arr:\n",
    "        poke_stats = poke_api_call(pokemon)\n",
    "        my_team[pokemon.title()] = poke_stats\n",
    "    print(my_team)\n",
    "    \n",
    "create_team(party)"
   ]
  },
  {
   "cell_type": "markdown",
   "metadata": {},
   "source": [
    "## Lets create a class called 'Pokemon' and create our pokemon as instances"
   ]
  },
  {
   "cell_type": "code",
   "execution_count": 50,
   "metadata": {},
   "outputs": [
    {
     "name": "stdout",
     "output_type": "stream",
     "text": [
      "pikachu's data has been updated\n"
     ]
    }
   ],
   "source": [
    "class Pokemon:\n",
    "    def __init__(self, name):\n",
    "        self.name = name\n",
    "        self.types = []\n",
    "        self.abilities = []\n",
    "        self.weight = None\n",
    "        self.poke_api_call()\n",
    "        \n",
    "    def poke_api_call(self):\n",
    "        r = requests.get(f\"https://pokeapi.co/api/v2/pokemon/{self.name.lower()}\")\n",
    "        if r.status_code == 200:\n",
    "            pokemon = r.json()\n",
    "        else:\n",
    "            print(f\"Please check Pokemon name spelling and try again.\")\n",
    "            \n",
    "        self.name = pokemon[\"name\"]\n",
    "        self.types = [type_[\"type\"][\"name\"] for type_ in pokemon[\"types\"]]\n",
    "        self.abilities = [ability[\"ability\"][\"name\"] for ability in pokemon[\"abilities\"]]\n",
    "        self.weight = pokemon[\"weight\"]\n",
    "        print(f\"{self.name}'s data has been updated\")\n",
    "    \n",
    "    def __repr__(self):\n",
    "        return f\"You caught a {self.name}!\"\n",
    "        \n",
    "    def display_info(self):\n",
    "        print(f\"Name: {self.name}\")\n",
    "        print(f\"Type: {self.type}\")\n",
    "        print(f\"Level: {self.level}\")\n",
    "        \n",
    "        \n",
    "# # Creating instances of Pokémon\n",
    "# pikachu = Pokemon(\"Pikachu\", \"Electric\", 20)\n",
    "# charizard = Pokemon(\"Charizard\", \"Fire/Flying\", 50)\n",
    "# bulbasaur = Pokemon(\"Bulbasaur\", \"Grass/Poison\", 10)\n",
    "pikachu = Pokemon(\"Pikachu\")"
   ]
  },
  {
   "cell_type": "markdown",
   "metadata": {},
   "source": [
    "### Let's Catch some Pokemon"
   ]
  },
  {
   "cell_type": "markdown",
   "metadata": {},
   "source": [
    "## Exercise 1:"
   ]
  },
  {
   "cell_type": "markdown",
   "metadata": {},
   "source": [
    "### Create a Method prints an image of your pokemon\n",
    "\n",
    "<p>HINT: You may need another attribute as well to store your image url within. </p>"
   ]
  },
  {
   "cell_type": "code",
   "execution_count": 234,
   "metadata": {},
   "outputs": [],
   "source": [
    "# Display an image in Jupyter notebook\n",
    "from IPython.display import Image\n",
    "\n",
    "import requests\n",
    "\n",
    "class Pokemon:\n",
    "    def __init__(self, name):\n",
    "        self.name = name\n",
    "        self.types = []\n",
    "        self.abilities = []\n",
    "        self.weight = None\n",
    "        self.image = None\n",
    "        self.poke_api_call()\n",
    "        \n",
    "    def poke_api_call(self):\n",
    "        r = requests.get(f\"https://pokeapi.co/api/v2/pokemon/{self.name.lower()}\")\n",
    "        if r.status_code == 200:\n",
    "            pokemon = r.json()\n",
    "        else:\n",
    "            print(f\"Please check Pokemon name spelling and try again.\")\n",
    "            \n",
    "        self.name = pokemon[\"name\"]\n",
    "        self.types = [type_[\"type\"][\"name\"] for type_ in pokemon[\"types\"]]\n",
    "        self.abilities = [ability[\"ability\"][\"name\"] for ability in pokemon[\"abilities\"]]\n",
    "        self.weight = pokemon[\"weight\"]\n",
    "        self.image = pokemon[\"sprites\"][\"other\"][\"dream_world\"][\"front_default\"]\n",
    "        print(f\"{self.name}'s data has been updated\")\n",
    "        \n",
    "    def display(self):\n",
    "        display(Image(url = self.image))\n",
    "    \n",
    "    def __repr__(self):\n",
    "        return f\"You caught a {self.name}!\""
   ]
  },
  {
   "cell_type": "code",
   "execution_count": 236,
   "metadata": {},
   "outputs": [
    {
     "name": "stdout",
     "output_type": "stream",
     "text": [
      "charmander's data has been updated\n"
     ]
    },
    {
     "data": {
      "text/html": [
       "<img src=\"https://raw.githubusercontent.com/PokeAPI/sprites/master/sprites/pokemon/other/dream-world/4.svg\"/>"
      ],
      "text/plain": [
       "<IPython.core.display.Image object>"
      ]
     },
     "metadata": {},
     "output_type": "display_data"
    },
    {
     "name": "stdout",
     "output_type": "stream",
     "text": [
      "eevee's data has been updated\n"
     ]
    },
    {
     "data": {
      "text/html": [
       "<img src=\"https://raw.githubusercontent.com/PokeAPI/sprites/master/sprites/pokemon/other/dream-world/133.svg\"/>"
      ],
      "text/plain": [
       "<IPython.core.display.Image object>"
      ]
     },
     "metadata": {},
     "output_type": "display_data"
    }
   ],
   "source": [
    "charmander = Pokemon(\"charmander\")\n",
    "charmander.display()\n",
    "\n",
    "eevee = Pokemon(\"eevee\")\n",
    "eevee.display()"
   ]
  },
  {
   "cell_type": "code",
   "execution_count": 188,
   "metadata": {},
   "outputs": [],
   "source": [
    "\n",
    "import requests\n",
    "from PIL import Image\n",
    "\n",
    "class Pokemon:\n",
    "    def __init__(self, name, image_url):\n",
    "        self.name = name\n",
    "        self.image_url = image_url\n",
    "\n",
    "    def print_image(self):\n",
    "        response = requests.get(self.image_url, stream=True)\n",
    "        response.raise_for_status()\n",
    "\n",
    "        with open('pokemon_image.png', 'wb') as file:\n",
    "            file.write(response.content)\n",
    "\n",
    "        image = Image.open('pokemon_image.png')\n",
    "        image.show()"
   ]
  },
  {
   "cell_type": "markdown",
   "metadata": {},
   "source": [
    "## Exercise 2:"
   ]
  },
  {
   "cell_type": "markdown",
   "metadata": {},
   "source": [
    "### Create a Method that evolves your Pokemon\n",
    "If your pokemon can't evolve any further print a message that says \"\\<name of pokemon> can't evolve.\""
   ]
  },
  {
   "cell_type": "markdown",
   "metadata": {},
   "source": [
    "Now let's evolve a few"
   ]
  },
  {
   "cell_type": "code",
   "execution_count": 237,
   "metadata": {
    "scrolled": true
   },
   "outputs": [],
   "source": [
    "import requests\n",
    "from time import sleep\n",
    "\n",
    "class Evolver(Pokemon):\n",
    "    def __init__(self, name):\n",
    "        super().__init__(name)\n",
    "        \n",
    "    def evolve(self):\n",
    "        #Api call for pokemon species\n",
    "        r = requests.get(f\"https://pokeapi.co/api/v2/pokemon-species/{self.name}/\")\n",
    "        if r.status_code == 200:\n",
    "            pokemon_species = r.json()\n",
    "        else: \n",
    "            print(f\"Ran into an issue, please check your spelling and try again: {r.status_code}\")\n",
    "            return\n",
    "        \n",
    "        r = requests.get(pokemon_species['evolution_chain']['url'])\n",
    "        if r.status_code == 200:\n",
    "            ev_chain = r.json()\n",
    "            ev_chain = ev_chain['chain']\n",
    "        else:\n",
    "            print(f\"Ran into an issue, please check your pokemon's name and try again: {r.status_code}\")\n",
    "            return\n",
    "        \n",
    "        base_name = ev_chain['species']['name']\n",
    "        evolution = ev_chain['evolves_to'][0]\n",
    "        evolution_name = evolution['species']['name']\n",
    "        \n",
    "        \n",
    "        #Evolution 1\n",
    "        if base_name == self.name:\n",
    "            pass\n",
    "        #Evolution 2\n",
    "        elif evolution_name == self.name:\n",
    "            evolution_name = evolution['evolves_to'][0]['species']['name']\n",
    "        #Attempting another evolution after the final\n",
    "        else:\n",
    "            print(f\"You cannot evolve your {self.name} and further...\")\n",
    "            return\n",
    "        \n",
    "        print(\"..........\")\n",
    "        sleep(1)\n",
    "        print(f\"Your {self.name} is evolving!?!?!?!?!?!\")\n",
    "        self.display()\n",
    "        sleep(1)\n",
    "        print(\"..........\")\n",
    "        print(f\"Congratulations!!! your {self.name} has evolved to.....\")\n",
    "        self.name = evolution_name\n",
    "        self.poke_api_call()\n",
    "        print(f\"{self.name.title()}!!!!!\")\n",
    "        self.display()\n",
    "        "
   ]
  },
  {
   "cell_type": "code",
   "execution_count": 238,
   "metadata": {},
   "outputs": [
    {
     "name": "stdout",
     "output_type": "stream",
     "text": [
      "charmander's data has been updated\n",
      "..........\n",
      "Your charmander is evolving!?!?!?!?!?!\n"
     ]
    },
    {
     "data": {
      "text/html": [
       "<img src=\"https://raw.githubusercontent.com/PokeAPI/sprites/master/sprites/pokemon/other/dream-world/4.svg\"/>"
      ],
      "text/plain": [
       "<IPython.core.display.Image object>"
      ]
     },
     "metadata": {},
     "output_type": "display_data"
    },
    {
     "name": "stdout",
     "output_type": "stream",
     "text": [
      "..........\n",
      "Congratulations!!! your charmander has evolved to.....\n",
      "charmeleon's data has been updated\n",
      "Charmeleon!!!!!\n"
     ]
    },
    {
     "data": {
      "text/html": [
       "<img src=\"https://raw.githubusercontent.com/PokeAPI/sprites/master/sprites/pokemon/other/dream-world/5.svg\"/>"
      ],
      "text/plain": [
       "<IPython.core.display.Image object>"
      ]
     },
     "metadata": {},
     "output_type": "display_data"
    }
   ],
   "source": [
    "evolver = Evolver(\"charmander\")\n",
    "evolver.evolve()"
   ]
  },
  {
   "cell_type": "markdown",
   "metadata": {},
   "source": [
    "#  Final Exercise: <br> <br>Create a Move_Tutor Class that in herits from the Pokemon parent class.\n",
    "\n",
    "<p><b>This class should have a list attribute that holds pokemon moves which should be populated with an api call to the PokeApi moves section. Finally create a class method that teaches your pokemon up to 4 moves.</b></p> \n",
    "\n"
   ]
  },
  {
   "cell_type": "code",
   "execution_count": 239,
   "metadata": {},
   "outputs": [],
   "source": [
    "import random\n",
    "import requests\n",
    "from time import sleep\n",
    "from IPython.display import Image\n",
    "\n",
    "class Move_Tutor(Pokemon):\n",
    "    \"\"\"\n",
    "    Move Tutor class inherits from Pokemon class and lets the Pokemon learn moves.\n",
    "    \"\"\"\n",
    "    def __init__(self, name):\n",
    "        \"\"\"\n",
    "        Initialize the class with its inheritance. \n",
    "        \"\"\"\n",
    "        super().__init__(name)\n",
    "        self.moves = []\n",
    "\n",
    "    def get_moves(self):\n",
    "        \"\"\"\n",
    "        Obtain the moves a Pokemon can learn. \n",
    "        \"\"\"\n",
    "        url = f\"https://pokeapi.co/api/v2/pokemon/{self.name}/\"\n",
    "        response = requests.get(url)\n",
    "\n",
    "        if response.status_code == 200:\n",
    "            data = response.json()\n",
    "            moves = data['moves']\n",
    "            self.moves = [move['move']['name'] for move in moves]\n",
    "        else:\n",
    "            print(f\"Error retrieving moves for {self.name}: {response.status_code}\")\n",
    "    \n",
    "    def teach_move(self, move1, move2, move3, move4):\n",
    "        \"\"\"\n",
    "        Teach up to four moves to the Pokemon.\n",
    "        \"\"\"\n",
    "        moves_to_teach = [move1, move2, move3, move4]\n",
    "        valid_moves = []\n",
    "\n",
    "        for move in moves_to_teach: # Go through the moves the Pokemon wants to learn. \n",
    "            if move in self.moves:\n",
    "                valid_moves.append(move)\n",
    "            else:\n",
    "                print(f\"{move} is not a valid move for {self.name}. Skipping...\")\n",
    "\n",
    "        if len(valid_moves) > 0:\n",
    "            \"\"\"\n",
    "            See if there is more space to teach moves to the Pokemon.\n",
    "            \"\"\"\n",
    "            print(f\"Teaching moves to {self.name}:\")\n",
    "            for move in valid_moves:\n",
    "                print(f\"- {self.name} learned {move}!\")\n",
    "                # Perform the logic to teach the move to the Pokemon here\n",
    "\n",
    "    def display(self):\n",
    "        \"\"\"\n",
    "        Use your preferred method to display the Pokemon's image\n",
    "        For example, using IPython.display.Image:\n",
    "        \"\"\"\n",
    "        url = f\"https://pokeapi.co/api/v2/pokemon/{self.name}/\"\n",
    "        response = requests.get(url)\n",
    "\n",
    "        if response.status_code == 200:\n",
    "            data = response.json()\n",
    "            sprite_url = data['sprites']['front_default']\n",
    "            Image(url=sprite_url)\n",
    "        else:\n",
    "            print(f\"Error retrieving image for {self.name}: {response.status_code}\")\n",
    "            \n",
    "    def show_moves(self):\n",
    "        \"\"\"\n",
    "        Show the moves that the Pokemon currently knows. \n",
    "        \"\"\"\n",
    "        if self.moves:\n",
    "            print(f\"Moveset for {self.name}:\")\n",
    "            for move in self.moves:\n",
    "                print(f\"- {move}\")\n",
    "        else:\n",
    "            print(f\"No moves found for {self.name}.\")\n",
    "            \n",
    "    def get_move_info(self, move_name):\n",
    "        \"\"\"\n",
    "        Retrieve information about a specific move.\n",
    "        \"\"\"\n",
    "        url = f\"https://pokeapi.co/api/v2/move/{move_name}/\"\n",
    "        response = requests.get(url)\n",
    "\n",
    "        if response.status_code == 200:\n",
    "            move_data = response.json()\n",
    "            move_name = move_data['name']\n",
    "            move_power = move_data['power']\n",
    "            move_type = move_data['type']['name']\n",
    "            print(f\"Move Name: {move_name}\")\n",
    "            print(f\"Type: {move_type}\")\n",
    "            print(f\"Power: {move_power}\")\n",
    "            # Add more information about the move if needed\n",
    "        else:\n",
    "            print(f\"Error retrieving move information: {response.status_code}\")"
   ]
  },
  {
   "cell_type": "code",
   "execution_count": 241,
   "metadata": {},
   "outputs": [
    {
     "name": "stdout",
     "output_type": "stream",
     "text": [
      "charmander's data has been updated\n",
      "fire blast is not a valid move for charmander. Skipping...\n",
      "tail whip is not a valid move for charmander. Skipping...\n",
      "Teaching moves to charmander:\n",
      "- charmander learned flamethrower!\n",
      "- charmander learned ember!\n",
      "Moveset for charmander:\n",
      "- mega-punch\n",
      "- fire-punch\n",
      "- thunder-punch\n",
      "- scratch\n",
      "- swords-dance\n",
      "- cut\n",
      "- wing-attack\n",
      "- mega-kick\n",
      "- headbutt\n",
      "- body-slam\n",
      "- take-down\n",
      "- double-edge\n",
      "- leer\n",
      "- bite\n",
      "- growl\n",
      "- ember\n",
      "- flamethrower\n",
      "- submission\n",
      "- counter\n",
      "- seismic-toss\n",
      "- strength\n",
      "- dragon-rage\n",
      "- fire-spin\n",
      "- dig\n",
      "- toxic\n",
      "- rage\n",
      "- mimic\n",
      "- double-team\n",
      "- smokescreen\n",
      "- defense-curl\n",
      "- reflect\n",
      "- bide\n",
      "- fire-blast\n",
      "- swift\n",
      "- skull-bash\n",
      "- fury-swipes\n",
      "- rest\n",
      "- rock-slide\n",
      "- slash\n",
      "- substitute\n",
      "- snore\n",
      "- curse\n",
      "- protect\n",
      "- scary-face\n",
      "- belly-drum\n",
      "- mud-slap\n",
      "- outrage\n",
      "- endure\n",
      "- false-swipe\n",
      "- swagger\n",
      "- fury-cutter\n",
      "- attract\n",
      "- sleep-talk\n",
      "- return\n",
      "- frustration\n",
      "- dynamic-punch\n",
      "- dragon-breath\n",
      "- iron-tail\n",
      "- metal-claw\n",
      "- hidden-power\n",
      "- sunny-day\n",
      "- crunch\n",
      "- ancient-power\n",
      "- rock-smash\n",
      "- beat-up\n",
      "- heat-wave\n",
      "- will-o-wisp\n",
      "- facade\n",
      "- focus-punch\n",
      "- helping-hand\n",
      "- brick-break\n",
      "- secret-power\n",
      "- weather-ball\n",
      "- air-cutter\n",
      "- overheat\n",
      "- rock-tomb\n",
      "- aerial-ace\n",
      "- dragon-claw\n",
      "- dragon-dance\n",
      "- natural-gift\n",
      "- fling\n",
      "- flare-blitz\n",
      "- dragon-pulse\n",
      "- dragon-rush\n",
      "- focus-blast\n",
      "- shadow-claw\n",
      "- fire-fang\n",
      "- captivate\n",
      "- hone-claws\n",
      "- flame-burst\n",
      "- flame-charge\n",
      "- round\n",
      "- echoed-voice\n",
      "- incinerate\n",
      "- acrobatics\n",
      "- inferno\n",
      "- fire-pledge\n",
      "- dragon-tail\n",
      "- work-up\n",
      "- confide\n",
      "- power-up-punch\n",
      "- tera-blast\n",
      "Move Name: flamethrower\n",
      "Type: fire\n",
      "Power: 90\n"
     ]
    }
   ],
   "source": [
    "moves = Move_Tutor(\"charmander\")\n",
    "moves.get_moves()\n",
    "moves.teach_move(\"flamethrower\", \"fire blast\", \"ember\", \"tail whip\")\n",
    "moves.show_moves()\n",
    "moves.get_move_info(\"flamethrower\")"
   ]
  },
  {
   "cell_type": "code",
   "execution_count": null,
   "metadata": {},
   "outputs": [],
   "source": []
  }
 ],
 "metadata": {
  "kernelspec": {
   "display_name": "Python 3 (ipykernel)",
   "language": "python",
   "name": "python3"
  },
  "language_info": {
   "codemirror_mode": {
    "name": "ipython",
    "version": 3
   },
   "file_extension": ".py",
   "mimetype": "text/x-python",
   "name": "python",
   "nbconvert_exporter": "python",
   "pygments_lexer": "ipython3",
   "version": "3.10.4"
  }
 },
 "nbformat": 4,
 "nbformat_minor": 4
}
