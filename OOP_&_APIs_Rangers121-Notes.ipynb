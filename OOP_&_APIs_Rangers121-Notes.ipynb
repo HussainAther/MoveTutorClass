{
 "cells": [
  {
   "cell_type": "markdown",
   "metadata": {},
   "source": [
    "# Object Oriented Programming 2 - examples and APIs\n"
   ]
  },
  {
   "cell_type": "markdown",
   "metadata": {},
   "source": [
    "## Tasks Today:\n",
    "\n",
    "   \n",
    "\n",
    "1) <b>Shopping Cart Example</b> <br>\n",
    "2) <b>Requests and the pokemon API </b> <br>\n",
    " "
   ]
  },
  {
   "cell_type": "markdown",
   "metadata": {},
   "source": [
    "# Goal \n",
    "### build a shopping cart program with prices and quantities using objects and a dictionary"
   ]
  },
  {
   "cell_type": "code",
   "execution_count": null,
   "metadata": {},
   "outputs": [],
   "source": []
  },
  {
   "cell_type": "markdown",
   "metadata": {},
   "source": [
    "# working with APis"
   ]
  },
  {
   "cell_type": "markdown",
   "metadata": {},
   "source": [
    "<p> What exactly is an API? <br> <br>\n",
    "API is the acronym for Application Programming Interface, which is a software intermediary that allows two applications to talk to each other. Each time you use an app like Facebook, send an instant message, or check the weather on your phone, you're using an API. </p>"
   ]
  },
  {
   "cell_type": "markdown",
   "metadata": {},
   "source": [
    "### The Poke API  allows you to retreive a pokemon's information from PokeAPI https://pokeapi.co/\n",
    "\n"
   ]
  },
  {
   "cell_type": "code",
   "execution_count": null,
   "metadata": {},
   "outputs": [],
   "source": [
    "# making an API call\n",
    "import requests\n",
    "\n",
    "\n"
   ]
  },
  {
   "cell_type": "markdown",
   "metadata": {},
   "source": [
    "### Display a Pokemon's name, weight, abilities, and types"
   ]
  },
  {
   "cell_type": "code",
   "execution_count": null,
   "metadata": {},
   "outputs": [],
   "source": [
    "able_list = []\n",
    "\n",
    "for ability in data[\"abilities\"]:\n",
    "    able_list.append()\n",
    "\n",
    "abilities = [ability[\"ability\"][\"name\"] for ability in data[\"abilities\"]]"
   ]
  },
  {
   "cell_type": "markdown",
   "metadata": {},
   "source": [
    "#### Create a function to Pull in your own Pokemon's data "
   ]
  },
  {
   "cell_type": "code",
   "execution_count": 28,
   "metadata": {},
   "outputs": [
    {
     "name": "stdout",
     "output_type": "stream",
     "text": [
      "{'name': 'heracross', 'weight': 540, 'abilities': ['swarm', 'guts', 'moxie'], 'types': ['bug', 'fighting']}\n"
     ]
    }
   ],
   "source": [
    "import requests\n",
    "\n",
    "def poke_api_call(pokemon):\n",
    "    \"\"\"\n",
    "    Pokemon API call. \n",
    "    \"\"\"\n",
    "    req = requests.get(f\"https://pokeapi.co/api/v2/pokemon/{pokemon}\")\n",
    "    if req.status_code == 200:\n",
    "        data = req.json() \n",
    "        \n",
    "        name = data[\"name\"]\n",
    "        weight = data[\"weight\"]\n",
    "        abilities = [ability[\"ability\"][\"name\"] for ability in data[\"abilities\"]]\n",
    "        types = [type_[\"type\"][\"name\"] for type_ in data[\"types\"]]\n",
    "        \n",
    "        poke = {\n",
    "            \"name\": name,\n",
    "            \"weight\": weight,\n",
    "            \"abilities\": abilities,\n",
    "            \"types\": types\n",
    "        }\n",
    "        \n",
    "        return poke\n",
    "    \n",
    "print(poke_api_call(\"heracross\"))"
   ]
  },
  {
   "cell_type": "markdown",
   "metadata": {},
   "source": [
    "Choose your pokemon"
   ]
  },
  {
   "cell_type": "code",
   "execution_count": 11,
   "metadata": {},
   "outputs": [],
   "source": [
    "party = [\"eevee,\" \"flareon\", \"vaporeon\", \"jolteon\", \"umbreon\", \"espeon\"]"
   ]
  },
  {
   "cell_type": "markdown",
   "metadata": {},
   "source": [
    "#### Use your function to create a dictionary of your favorite 6 pokemon"
   ]
  },
  {
   "cell_type": "code",
   "execution_count": 32,
   "metadata": {},
   "outputs": [
    {
     "name": "stdout",
     "output_type": "stream",
     "text": [
      "{'Eevee,Flareon': None, 'Vaporeon': {'name': 'vaporeon', 'weight': 290, 'abilities': ['water-absorb', 'hydration'], 'types': ['water']}, 'Jolteon': {'name': 'jolteon', 'weight': 245, 'abilities': ['volt-absorb', 'quick-feet'], 'types': ['electric']}, 'Umbreon': {'name': 'umbreon', 'weight': 270, 'abilities': ['synchronize', 'inner-focus'], 'types': ['dark']}, 'Espeon': {'name': 'espeon', 'weight': 265, 'abilities': ['synchronize', 'magic-bounce'], 'types': ['psychic']}}\n"
     ]
    }
   ],
   "source": [
    "# # Place all 6 of your pokemon on the object below, each pokemon should have at least as much info as Pikachu did.\n",
    "# party = ['heracross', 'vaporeon', 'flygon', 'charizard', 'pidgeot', 'crobat']\n",
    "party = [\"eevee,\" \"flareon\", \"vaporeon\", \"jolteon\", \"umbreon\", \"espeon\"]\n",
    "\n",
    "\n",
    "def create_team(arr):\n",
    "    my_team = {}\n",
    "    for pokemon in arr:\n",
    "        poke_stats = poke_api_call(pokemon)\n",
    "        my_team[pokemon.title()] = poke_stats\n",
    "    print(my_team)\n",
    "    \n",
    "create_team(party)"
   ]
  },
  {
   "cell_type": "markdown",
   "metadata": {},
   "source": [
    "## Lets create a class called 'Pokemon' and create our pokemon as instances"
   ]
  },
  {
   "cell_type": "code",
   "execution_count": 50,
   "metadata": {},
   "outputs": [
    {
     "name": "stdout",
     "output_type": "stream",
     "text": [
      "pikachu's data has been updated\n"
     ]
    }
   ],
   "source": [
    "class Pokemon:\n",
    "    def __init__(self, name):\n",
    "        self.name = name\n",
    "        self.types = []\n",
    "        self.abilities = []\n",
    "        self.weight = None\n",
    "        self.poke_api_call()\n",
    "        \n",
    "    def poke_api_call(self):\n",
    "        r = requests.get(f\"https://pokeapi.co/api/v2/pokemon/{self.name.lower()}\")\n",
    "        if r.status_code == 200:\n",
    "            pokemon = r.json()\n",
    "        else:\n",
    "            print(f\"Please check Pokemon name spelling and try again.\")\n",
    "            \n",
    "        self.name = pokemon[\"name\"]\n",
    "        self.types = [type_[\"type\"][\"name\"] for type_ in pokemon[\"types\"]]\n",
    "        self.abilities = [ability[\"ability\"][\"name\"] for ability in pokemon[\"abilities\"]]\n",
    "        self.weight = pokemon[\"weight\"]\n",
    "        print(f\"{self.name}'s data has been updated\")\n",
    "    \n",
    "    def __repr__(self):\n",
    "        return f\"You caught a {self.name}!\"\n",
    "        \n",
    "    def display_info(self):\n",
    "        print(f\"Name: {self.name}\")\n",
    "        print(f\"Type: {self.type}\")\n",
    "        print(f\"Level: {self.level}\")\n",
    "        \n",
    "        \n",
    "# # Creating instances of Pokémon\n",
    "# pikachu = Pokemon(\"Pikachu\", \"Electric\", 20)\n",
    "# charizard = Pokemon(\"Charizard\", \"Fire/Flying\", 50)\n",
    "# bulbasaur = Pokemon(\"Bulbasaur\", \"Grass/Poison\", 10)\n",
    "pikachu = Pokemon(\"Pikachu\")"
   ]
  },
  {
   "cell_type": "markdown",
   "metadata": {},
   "source": [
    "### Let's Catch some Pokemon"
   ]
  },
  {
   "cell_type": "markdown",
   "metadata": {},
   "source": [
    "## Exercise 1:"
   ]
  },
  {
   "cell_type": "markdown",
   "metadata": {},
   "source": [
    "### Create a Method prints an image of your pokemon\n",
    "\n",
    "<p>HINT: You may need another attribute as well to store your image url within. </p>"
   ]
  },
  {
   "cell_type": "code",
   "execution_count": 79,
   "metadata": {},
   "outputs": [],
   "source": [
    "# Display an image in Jupyter notebook\n",
    "from IPython.display import Image\n",
    "\n",
    "import requests\n",
    "\n",
    "class Pokemon:\n",
    "    def __init__(self, name):\n",
    "        self.name = name\n",
    "        self.types = []\n",
    "        self.abilities = []\n",
    "        self.weight = None\n",
    "        self.image = None\n",
    "        self.poke_api_call()\n",
    "        \n",
    "    def poke_api_call(self):\n",
    "        r = requests.get(f\"https://pokeapi.co/api/v2/pokemon/{self.name.lower()}\")\n",
    "        if r.status_code == 200:\n",
    "            pokemon = r.json()\n",
    "        else:\n",
    "            print(f\"Please check Pokemon name spelling and try again.\")\n",
    "            \n",
    "        self.name = pokemon[\"name\"]\n",
    "        self.types = [type_[\"type\"][\"name\"] for type_ in pokemon[\"types\"]]\n",
    "        self.abilities = [ability[\"ability\"][\"name\"] for ability in pokemon[\"abilities\"]]\n",
    "        self.weight = pokemon[\"weight\"]\n",
    "        self.image = pokemon[\"sprites\"][\"other\"][\"dream_world\"][\"front_default\"]\n",
    "        print(f\"{self.name}'s data has been updated\")\n",
    "        \n",
    "    def display(self):\n",
    "        display(Image(url = self.image))\n",
    "    \n",
    "    def __repr__(self):\n",
    "        return f\"You caught a {self.name}!\""
   ]
  },
  {
   "cell_type": "code",
   "execution_count": 80,
   "metadata": {},
   "outputs": [
    {
     "name": "stdout",
     "output_type": "stream",
     "text": [
      "charmander's data has been updated\n"
     ]
    },
    {
     "data": {
      "text/html": [
       "<img src=\"https://raw.githubusercontent.com/PokeAPI/sprites/master/sprites/pokemon/other/dream-world/4.svg\"/>"
      ],
      "text/plain": [
       "<IPython.core.display.Image object>"
      ]
     },
     "metadata": {},
     "output_type": "display_data"
    }
   ],
   "source": [
    "charmander = Pokemon(\"charmander\")\n",
    "charmander.display()"
   ]
  },
  {
   "cell_type": "code",
   "execution_count": 37,
   "metadata": {},
   "outputs": [
    {
     "ename": "TypeError",
     "evalue": "Pokemon.__init__() takes 3 positional arguments but 4 were given",
     "output_type": "error",
     "traceback": [
      "\u001b[0;31m---------------------------------------------------------------------------\u001b[0m",
      "\u001b[0;31mTypeError\u001b[0m                                 Traceback (most recent call last)",
      "Input \u001b[0;32mIn [37]\u001b[0m, in \u001b[0;36m<cell line: 20>\u001b[0;34m()\u001b[0m\n\u001b[1;32m     17\u001b[0m         image\u001b[38;5;241m.\u001b[39mshow()\n\u001b[1;32m     19\u001b[0m \u001b[38;5;66;03m# Creating instances of Pokémon\u001b[39;00m\n\u001b[0;32m---> 20\u001b[0m pikachu \u001b[38;5;241m=\u001b[39m \u001b[43mPokemon\u001b[49m\u001b[43m(\u001b[49m\u001b[38;5;124;43m\"\u001b[39;49m\u001b[38;5;124;43mPikachu\u001b[39;49m\u001b[38;5;124;43m\"\u001b[39;49m\u001b[43m,\u001b[49m\u001b[43m \u001b[49m\u001b[38;5;124;43m\"\u001b[39;49m\u001b[38;5;124;43mElectric\u001b[39;49m\u001b[38;5;124;43m\"\u001b[39;49m\u001b[43m,\u001b[49m\u001b[43m \u001b[49m\u001b[38;5;241;43m20\u001b[39;49m\u001b[43m)\u001b[49m\n\u001b[1;32m     21\u001b[0m charizard \u001b[38;5;241m=\u001b[39m Pokemon(\u001b[38;5;124m\"\u001b[39m\u001b[38;5;124mCharizard\u001b[39m\u001b[38;5;124m\"\u001b[39m, \u001b[38;5;124m\"\u001b[39m\u001b[38;5;124mFire/Flying\u001b[39m\u001b[38;5;124m\"\u001b[39m, \u001b[38;5;241m50\u001b[39m)\n\u001b[1;32m     22\u001b[0m bulbasaur \u001b[38;5;241m=\u001b[39m Pokemon(\u001b[38;5;124m\"\u001b[39m\u001b[38;5;124mBulbasaur\u001b[39m\u001b[38;5;124m\"\u001b[39m, \u001b[38;5;124m\"\u001b[39m\u001b[38;5;124mGrass/Poison\u001b[39m\u001b[38;5;124m\"\u001b[39m, \u001b[38;5;241m10\u001b[39m)\n",
      "\u001b[0;31mTypeError\u001b[0m: Pokemon.__init__() takes 3 positional arguments but 4 were given"
     ]
    }
   ],
   "source": [
    "import requests\n",
    "from PIL import Image\n",
    "\n",
    "class Pokemon:\n",
    "    def __init__(self, name, image_url):\n",
    "        self.name = name\n",
    "        self.image_url = image_url\n",
    "\n",
    "    def print_image(self):\n",
    "        response = requests.get(self.image_url, stream=True)\n",
    "        response.raise_for_status()\n",
    "\n",
    "        with open('pokemon_image.png', 'wb') as file:\n",
    "            file.write(response.content)\n",
    "\n",
    "        image = Image.open('pokemon_image.png')\n",
    "        image.show()"
   ]
  },
  {
   "cell_type": "code",
   "execution_count": 20,
   "metadata": {},
   "outputs": [],
   "source": [
    "pokemon_name = 'pikachu'\n",
    "pokemon_url = f'https://pokeapi.co/api/v2/pokemon/{pokemon_name}'\n",
    "response = requests.get(pokemon_url)\n",
    "data = response.json()\n",
    "pokemon_image_url = data['sprites']['front_default']\n",
    "\n",
    "pokemon = Pokemon(pokemon_name, pokemon_image_url)\n",
    "pokemon.print_image()"
   ]
  },
  {
   "cell_type": "markdown",
   "metadata": {},
   "source": [
    "## Exercise 2:"
   ]
  },
  {
   "cell_type": "markdown",
   "metadata": {},
   "source": [
    "### Create a Method that evolves your Pokemon\n",
    "If your pokemon can't evolve any further print a message that says \"\\<name of pokemon> can't evolve.\""
   ]
  },
  {
   "cell_type": "markdown",
   "metadata": {},
   "source": [
    "Now let's evolve a few"
   ]
  },
  {
   "cell_type": "code",
   "execution_count": 132,
   "metadata": {
    "scrolled": true
   },
   "outputs": [],
   "source": [
    "import requests\n",
    "from time import sleep\n",
    "\n",
    "class Evolver(Pokemon):\n",
    "    def __init__(self, name):\n",
    "        super().__init__(name)\n",
    "        \n",
    "    def evolve(self):\n",
    "        #Api call for pokemon species\n",
    "        r = requests.get(f\"https://pokeapi.co/api/v2/pokemon-species/{self.name}/\")\n",
    "        if r.status_code == 200:\n",
    "            pokemon_species = r.json()\n",
    "        else: \n",
    "            print(f\"Ran into an issue, please check your spelling and try again: {r.status_code}\")\n",
    "            return\n",
    "        \n",
    "        r = requests.get(pokemon_species['evolution_chain']['url'])\n",
    "        if r.status_code == 200:\n",
    "            ev_chain = r.json()\n",
    "            ev_chain = ev_chain['chain']\n",
    "        else:\n",
    "            print(f\"Ran into an issue, please check your pokemon's name and try again: {r.status_code}\")\n",
    "            return\n",
    "        \n",
    "        base_name = ev_chain['species']['name']\n",
    "        evolution = ev_chain['evolves_to'][0]\n",
    "        evolution_name = evolution['species']['name']\n",
    "        \n",
    "        \n",
    "        #Evolution 1\n",
    "        if base_name == self.name:\n",
    "            pass\n",
    "        #Evolution 2\n",
    "        elif evolution_name == self.name:\n",
    "            evolution_name = evolution['evolves_to'][0]['species']['name']\n",
    "        #Attempting another evolution after the final\n",
    "        else:\n",
    "            print(f\"You cannot evolve your {self.name} and further...\")\n",
    "            return\n",
    "        \n",
    "        print(\"..........\")\n",
    "        sleep(1)\n",
    "        print(f\"Your {self.name} is evolving!?!?!?!?!?!\")\n",
    "        self.display()\n",
    "        sleep(1)\n",
    "        print(\"..........\")\n",
    "        print(f\"Congratulations!!! your {self.name} has evolved to.....\")\n",
    "        self.name = evolution_name\n",
    "        self.poke_api_call()\n",
    "        print(f\"{self.name.title()}!!!!!\")\n",
    "        self.display()\n",
    "        "
   ]
  },
  {
   "cell_type": "code",
   "execution_count": 133,
   "metadata": {},
   "outputs": [
    {
     "name": "stdout",
     "output_type": "stream",
     "text": [
      "charmander's data has been updated\n",
      "..........\n",
      "Your charmander is evolving!?!?!?!?!?!\n"
     ]
    },
    {
     "data": {
      "text/html": [
       "<img src=\"https://raw.githubusercontent.com/PokeAPI/sprites/master/sprites/pokemon/other/dream-world/4.svg\"/>"
      ],
      "text/plain": [
       "<IPython.core.display.Image object>"
      ]
     },
     "metadata": {},
     "output_type": "display_data"
    },
    {
     "name": "stdout",
     "output_type": "stream",
     "text": [
      "..........\n",
      "Congratulations!!! your charmander has evolved to.....\n",
      "charmeleon's data has been updated\n",
      "Charmeleon!!!!!\n"
     ]
    },
    {
     "data": {
      "text/html": [
       "<img src=\"https://raw.githubusercontent.com/PokeAPI/sprites/master/sprites/pokemon/other/dream-world/5.svg\"/>"
      ],
      "text/plain": [
       "<IPython.core.display.Image object>"
      ]
     },
     "metadata": {},
     "output_type": "display_data"
    }
   ],
   "source": [
    "evolver = Evolver(\"charmander\")\n",
    "evolver.evolve()"
   ]
  },
  {
   "cell_type": "code",
   "execution_count": 163,
   "metadata": {},
   "outputs": [
    {
     "name": "stdout",
     "output_type": "stream",
     "text": [
      "xatu's data has been updated\n"
     ]
    },
    {
     "ename": "IndexError",
     "evalue": "list index out of range",
     "output_type": "error",
     "traceback": [
      "\u001b[0;31m---------------------------------------------------------------------------\u001b[0m",
      "\u001b[0;31mIndexError\u001b[0m                                Traceback (most recent call last)",
      "Input \u001b[0;32mIn [163]\u001b[0m, in \u001b[0;36m<cell line: 2>\u001b[0;34m()\u001b[0m\n\u001b[1;32m      1\u001b[0m evolver \u001b[38;5;241m=\u001b[39m Evolver(\u001b[38;5;124m\"\u001b[39m\u001b[38;5;124mxatu\u001b[39m\u001b[38;5;124m\"\u001b[39m)\n\u001b[0;32m----> 2\u001b[0m \u001b[43mevolver\u001b[49m\u001b[38;5;241;43m.\u001b[39;49m\u001b[43mevolve\u001b[49m\u001b[43m(\u001b[49m\u001b[43m)\u001b[49m\n",
      "Input \u001b[0;32mIn [132]\u001b[0m, in \u001b[0;36mEvolver.evolve\u001b[0;34m(self)\u001b[0m\n\u001b[1;32m     33\u001b[0m \u001b[38;5;66;03m#Evolution 2\u001b[39;00m\n\u001b[1;32m     34\u001b[0m \u001b[38;5;28;01melif\u001b[39;00m evolution_name \u001b[38;5;241m==\u001b[39m \u001b[38;5;28mself\u001b[39m\u001b[38;5;241m.\u001b[39mname:\n\u001b[0;32m---> 35\u001b[0m     evolution_name \u001b[38;5;241m=\u001b[39m \u001b[43mevolution\u001b[49m\u001b[43m[\u001b[49m\u001b[38;5;124;43m'\u001b[39;49m\u001b[38;5;124;43mevolves_to\u001b[39;49m\u001b[38;5;124;43m'\u001b[39;49m\u001b[43m]\u001b[49m\u001b[43m[\u001b[49m\u001b[38;5;241;43m0\u001b[39;49m\u001b[43m]\u001b[49m[\u001b[38;5;124m'\u001b[39m\u001b[38;5;124mspecies\u001b[39m\u001b[38;5;124m'\u001b[39m][\u001b[38;5;124m'\u001b[39m\u001b[38;5;124mname\u001b[39m\u001b[38;5;124m'\u001b[39m]\n\u001b[1;32m     36\u001b[0m \u001b[38;5;66;03m#Attempting another evolution after the final\u001b[39;00m\n\u001b[1;32m     37\u001b[0m \u001b[38;5;28;01melse\u001b[39;00m:\n\u001b[1;32m     38\u001b[0m     \u001b[38;5;28mprint\u001b[39m(\u001b[38;5;124mf\u001b[39m\u001b[38;5;124m\"\u001b[39m\u001b[38;5;124mYou cannot evolve your \u001b[39m\u001b[38;5;132;01m{\u001b[39;00m\u001b[38;5;28mself\u001b[39m\u001b[38;5;241m.\u001b[39mname\u001b[38;5;132;01m}\u001b[39;00m\u001b[38;5;124m and further...\u001b[39m\u001b[38;5;124m\"\u001b[39m)\n",
      "\u001b[0;31mIndexError\u001b[0m: list index out of range"
     ]
    }
   ],
   "source": [
    "evolver = Evolver(\"xatu\")\n",
    "evolver.evolve()"
   ]
  },
  {
   "cell_type": "markdown",
   "metadata": {},
   "source": [
    "#  Final Exercise: <br> <br>Create a Move_Tutor Class that in herits from the Pokemon parent class.\n",
    "\n",
    "<p><b>This class should have a list attribute that holds pokemon moves which should be populated with an api call to the PokeApi moves section. Finally create a class method that teaches your pokemon up to 4 moves.</b></p> \n",
    "\n"
   ]
  },
  {
   "cell_type": "code",
   "execution_count": 157,
   "metadata": {},
   "outputs": [],
   "source": [
    "import requests\n",
    "from time import sleep\n",
    "from IPython.display import Image\n",
    "\n",
    "class Move_Tutor(Pokemon):\n",
    "    def __init__(self, name):\n",
    "        super().__init__(name)\n",
    "        self.moves = []\n",
    "\n",
    "    def get_moves(self):\n",
    "        url = f\"https://pokeapi.co/api/v2/pokemon/{self.name}/\"\n",
    "        response = requests.get(url)\n",
    "\n",
    "        if response.status_code == 200:\n",
    "            data = response.json()\n",
    "            moves = data['moves']\n",
    "            self.moves = [move['move']['name'] for move in moves]\n",
    "        else:\n",
    "            print(f\"Error retrieving moves for {self.name}: {response.status_code}\")\n",
    "    \n",
    "    def teach_move(self, move1, move2, move3, move4):\n",
    "        moves_to_teach = [move1, move2, move3, move4]\n",
    "        valid_moves = []\n",
    "\n",
    "        for move in moves_to_teach:\n",
    "            if move in self.moves:\n",
    "                valid_moves.append(move)\n",
    "            else:\n",
    "                print(f\"{move} is not a valid move for {self.name}. Skipping...\")\n",
    "\n",
    "        if len(valid_moves) > 0:\n",
    "            print(f\"Teaching moves to {self.name}:\")\n",
    "            for move in valid_moves:\n",
    "                print(f\"- {self.name} learned {move}!\")\n",
    "                # Perform the logic to teach the move to the Pokemon here\n",
    "\n",
    "    def display(self):\n",
    "        # Use your preferred method to display the Pokemon's image\n",
    "        # For example, using IPython.display.Image:\n",
    "        url = f\"https://pokeapi.co/api/v2/pokemon/{self.name}/\"\n",
    "        response = requests.get(url)\n",
    "\n",
    "        if response.status_code == 200:\n",
    "            data = response.json()\n",
    "            sprite_url = data['sprites']['front_default']\n",
    "            Image(url=sprite_url)\n",
    "        else:\n",
    "            print(f\"Error retrieving image for {self.name}: {response.status_code}\")\n",
    "            \n",
    "    def show_moves(self):\n",
    "        if self.moves:\n",
    "            print(f\"Moveset for {self.name}:\")\n",
    "            for move in self.moves:\n",
    "                print(f\"- {move}\")\n",
    "        else:\n",
    "            print(f\"No moves found for {self.name}.\")\n"
   ]
  },
  {
   "cell_type": "code",
   "execution_count": 159,
   "metadata": {},
   "outputs": [
    {
     "name": "stdout",
     "output_type": "stream",
     "text": [
      "charmander's data has been updated\n",
      "charmander's data has been updated\n",
      "fire blast is not a valid move for charmander. Skipping...\n",
      "tail whip is not a valid move for charmander. Skipping...\n",
      "Teaching moves to charmander:\n",
      "- charmander learned flamethrower!\n",
      "- charmander learned ember!\n",
      "Moveset for charmander:\n",
      "- mega-punch\n",
      "- fire-punch\n",
      "- thunder-punch\n",
      "- scratch\n",
      "- swords-dance\n",
      "- cut\n",
      "- wing-attack\n",
      "- mega-kick\n",
      "- headbutt\n",
      "- body-slam\n",
      "- take-down\n",
      "- double-edge\n",
      "- leer\n",
      "- bite\n",
      "- growl\n",
      "- ember\n",
      "- flamethrower\n",
      "- submission\n",
      "- counter\n",
      "- seismic-toss\n",
      "- strength\n",
      "- dragon-rage\n",
      "- fire-spin\n",
      "- dig\n",
      "- toxic\n",
      "- rage\n",
      "- mimic\n",
      "- double-team\n",
      "- smokescreen\n",
      "- defense-curl\n",
      "- reflect\n",
      "- bide\n",
      "- fire-blast\n",
      "- swift\n",
      "- skull-bash\n",
      "- fury-swipes\n",
      "- rest\n",
      "- rock-slide\n",
      "- slash\n",
      "- substitute\n",
      "- snore\n",
      "- curse\n",
      "- protect\n",
      "- scary-face\n",
      "- belly-drum\n",
      "- mud-slap\n",
      "- outrage\n",
      "- endure\n",
      "- false-swipe\n",
      "- swagger\n",
      "- fury-cutter\n",
      "- attract\n",
      "- sleep-talk\n",
      "- return\n",
      "- frustration\n",
      "- dynamic-punch\n",
      "- dragon-breath\n",
      "- iron-tail\n",
      "- metal-claw\n",
      "- hidden-power\n",
      "- sunny-day\n",
      "- crunch\n",
      "- ancient-power\n",
      "- rock-smash\n",
      "- beat-up\n",
      "- heat-wave\n",
      "- will-o-wisp\n",
      "- facade\n",
      "- focus-punch\n",
      "- helping-hand\n",
      "- brick-break\n",
      "- secret-power\n",
      "- weather-ball\n",
      "- air-cutter\n",
      "- overheat\n",
      "- rock-tomb\n",
      "- aerial-ace\n",
      "- dragon-claw\n",
      "- dragon-dance\n",
      "- natural-gift\n",
      "- fling\n",
      "- flare-blitz\n",
      "- dragon-pulse\n",
      "- dragon-rush\n",
      "- focus-blast\n",
      "- shadow-claw\n",
      "- fire-fang\n",
      "- captivate\n",
      "- hone-claws\n",
      "- flame-burst\n",
      "- flame-charge\n",
      "- round\n",
      "- echoed-voice\n",
      "- incinerate\n",
      "- acrobatics\n",
      "- inferno\n",
      "- fire-pledge\n",
      "- dragon-tail\n",
      "- work-up\n",
      "- confide\n",
      "- power-up-punch\n",
      "- tera-blast\n"
     ]
    }
   ],
   "source": [
    "charmander = Pokemon(\"charmander\")\n",
    "moves = Move_Tutor(\"charmander\")\n",
    "moves.get_moves()\n",
    "moves.teach_move(\"flamethrower\", \"fire blast\", \"ember\", \"tail whip\")\n",
    "moves.show_moves()"
   ]
  }
 ],
 "metadata": {
  "kernelspec": {
   "display_name": "Python 3 (ipykernel)",
   "language": "python",
   "name": "python3"
  },
  "language_info": {
   "codemirror_mode": {
    "name": "ipython",
    "version": 3
   },
   "file_extension": ".py",
   "mimetype": "text/x-python",
   "name": "python",
   "nbconvert_exporter": "python",
   "pygments_lexer": "ipython3",
   "version": "3.10.4"
  }
 },
 "nbformat": 4,
 "nbformat_minor": 4
}
