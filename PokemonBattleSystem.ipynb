{
 "cells": [
  {
   "cell_type": "markdown",
   "metadata": {},
   "source": [
    "# Pokemon Battle System\n",
    "\n",
    "In this version of the Pokemon work, the two Pokem on can battle against each other."
   ]
  },
  {
   "cell_type": "code",
   "execution_count": 1,
   "metadata": {},
   "outputs": [],
   "source": [
    "from IPython.display import Image\n",
    "\n",
    "import random\n",
    "import requests\n",
    "\n",
    "class Pokemon:\n",
    "    def __init__(self, name, level, moveset, stats):\n",
    "        self.name = name\n",
    "        self.types = []\n",
    "        self.abilities = []\n",
    "        self.weight = None\n",
    "        self.image = None\n",
    "        self.poke_api_call()\n",
    "        self.level = level\n",
    "        self.health = stats['health']\n",
    "        self.attack = stats['attack']\n",
    "        self.defense = stats['defense']\n",
    "        self.speed = stats['speed']\n",
    "        self.moves = moveset\n",
    "        \n",
    "    def poke_api_call(self):\n",
    "        r = requests.get(f\"https://pokeapi.co/api/v2/pokemon/{self.name.lower()}\")\n",
    "        if r.status_code == 200:\n",
    "            pokemon = r.json()\n",
    "        else:\n",
    "            print(f\"Please check Pokemon name spelling and try again.\")\n",
    "            \n",
    "        self.name = pokemon[\"name\"]\n",
    "        self.types = [type_[\"type\"][\"name\"] for type_ in pokemon[\"types\"]]\n",
    "        self.abilities = [ability[\"ability\"][\"name\"] for ability in pokemon[\"abilities\"]]\n",
    "        self.weight = pokemon[\"weight\"]\n",
    "        self.image = pokemon[\"sprites\"][\"other\"][\"dream_world\"][\"front_default\"]\n",
    "        print(f\"{self.name}'s data has been updated\")\n",
    "        \n",
    "    def display(self):\n",
    "        display(Image(url = self.image))\n",
    "    \n",
    "    def __repr__(self):\n",
    "        return f\"You caught a {self.name}!\""
   ]
  },
  {
   "cell_type": "code",
   "execution_count": 2,
   "metadata": {},
   "outputs": [
    {
     "name": "stdout",
     "output_type": "stream",
     "text": [
      "charmander's data has been updated\n"
     ]
    },
    {
     "data": {
      "text/html": [
       "<img src=\"https://raw.githubusercontent.com/PokeAPI/sprites/master/sprites/pokemon/other/dream-world/4.svg\"/>"
      ],
      "text/plain": [
       "<IPython.core.display.Image object>"
      ]
     },
     "metadata": {},
     "output_type": "display_data"
    },
    {
     "name": "stdout",
     "output_type": "stream",
     "text": [
      "[{'name': 'Ember', 'power': 40}, {'name': 'Fire Spin', 'power': 60}]\n",
      "eevee's data has been updated\n"
     ]
    },
    {
     "data": {
      "text/html": [
       "<img src=\"https://raw.githubusercontent.com/PokeAPI/sprites/master/sprites/pokemon/other/dream-world/133.svg\"/>"
      ],
      "text/plain": [
       "<IPython.core.display.Image object>"
      ]
     },
     "metadata": {},
     "output_type": "display_data"
    }
   ],
   "source": [
    "eevee_moveset = [{'name': 'Tackle', 'power': 40}, {'name': 'Quick Attack', 'power': 50}]\n",
    "charmander_moveset = [{'name': 'Ember', 'power': 40}, {'name': 'Fire Spin', 'power': 60}]\n",
    "\n",
    "eevee_stats = {'health': 100, 'attack': 50, 'defense': 40, 'speed': 60}\n",
    "charmander_stats = {'health': 90, 'attack': 45, 'defense': 35, 'speed': 70}\n",
    "\n",
    "charmander = Pokemon(\"charmander\", 15, charmander_moveset, charmander_stats)\n",
    "charmander.display()\n",
    "print(charmander.moves) # Take a look at what the moves are.\n",
    "\n",
    "eevee = Pokemon(\"eevee\", 20, eevee_moveset, eevee_stats)\n",
    "eevee.display()"
   ]
  },
  {
   "cell_type": "markdown",
   "metadata": {},
   "source": [
    "Now let's evolve a few"
   ]
  },
  {
   "cell_type": "markdown",
   "metadata": {},
   "source": [
    "## Pokemon battle system!\n",
    "\n",
    "A battle system! You can battle your Pokemon against each other. "
   ]
  },
  {
   "cell_type": "code",
   "execution_count": 3,
   "metadata": {},
   "outputs": [],
   "source": [
    "class PokemonBattle:\n",
    "    def __init__(self, pokemon1, pokemon2):\n",
    "        self.pokemon1 = pokemon1\n",
    "        self.pokemon2 = pokemon2\n",
    "\n",
    "    def pokemon_attack(self, attacker, defender):\n",
    "        \"\"\"\n",
    "        Simulate an attack from one Pokemon to another.\n",
    "        \"\"\"\n",
    "        print(f\"{attacker.name} attacks {defender.name}!\")\n",
    "        move = random.choice(attacker.moves)  # Choose a random move from the attacker's moveset\n",
    "        power = move['power']\n",
    "        damage = power * (attacker.level / defender.level)  # Calculate the damage based on levels and move power\n",
    "\n",
    "        print(f\"{attacker.name} uses {move['name']}!\")\n",
    "        print(f\"It deals {damage} damage to {defender.name}!\")\n",
    "\n",
    "        defender.health -= damage\n",
    "        if defender.health <= 0:\n",
    "            defender.health = 0\n",
    "        print(f\"{defender.name} has {defender.health} HP remaining.\\n\")\n",
    "\n",
    "    def perform_battle(self):\n",
    "        \"\"\"\n",
    "        Perform the battle simulation between two Pokemon.\n",
    "        \"\"\"\n",
    "        print(f\"A battle starts between {self.pokemon1.name} and {self.pokemon2.name}!\\n\")\n",
    "\n",
    "        while self.pokemon1.health > 0 and self.pokemon2.health > 0:\n",
    "            # Determine which Pokemon attacks first based on their speed stats\n",
    "            if self.pokemon1.speed > self.pokemon2.speed:\n",
    "                self.pokemon_attack(self.pokemon1, self.pokemon2)\n",
    "                if self.pokemon2.health <= 0:\n",
    "                    break\n",
    "                self.pokemon_attack(self.pokemon2, self.pokemon1)\n",
    "            else:\n",
    "                self.pokemon_attack(self.pokemon2, self.pokemon1)\n",
    "                if self.pokemon1.health <= 0:\n",
    "                    break\n",
    "                self.pokemon_attack(self.pokemon1, self.pokemon2)\n",
    "\n",
    "        if self.pokemon1.health <= 0:\n",
    "            print(f\"{self.pokemon1.name} fainted! {self.pokemon2.name} wins the battle!\")\n",
    "        else:\n",
    "            print(f\"{self.pokemon2.name} fainted! {self.pokemon1.name} wins the battle!\")"
   ]
  },
  {
   "cell_type": "code",
   "execution_count": 4,
   "metadata": {},
   "outputs": [
    {
     "name": "stdout",
     "output_type": "stream",
     "text": [
      "A battle starts between charmander and eevee!\n",
      "\n",
      "charmander attacks eevee!\n",
      "charmander uses Fire Spin!\n",
      "It deals 45.0 damage to eevee!\n",
      "eevee has 55.0 HP remaining.\n",
      "\n",
      "eevee attacks charmander!\n",
      "eevee uses Tackle!\n",
      "It deals 53.33333333333333 damage to charmander!\n",
      "charmander has 36.66666666666667 HP remaining.\n",
      "\n",
      "charmander attacks eevee!\n",
      "charmander uses Ember!\n",
      "It deals 30.0 damage to eevee!\n",
      "eevee has 25.0 HP remaining.\n",
      "\n",
      "eevee attacks charmander!\n",
      "eevee uses Tackle!\n",
      "It deals 53.33333333333333 damage to charmander!\n",
      "charmander has 0 HP remaining.\n",
      "\n",
      "charmander fainted! eevee wins the battle!\n"
     ]
    }
   ],
   "source": [
    "battle1 = PokemonBattle(charmander, eevee)\n",
    "battle1.perform_battle()"
   ]
  },
  {
   "cell_type": "code",
   "execution_count": null,
   "metadata": {},
   "outputs": [],
   "source": []
  }
 ],
 "metadata": {
  "kernelspec": {
   "display_name": "Python 3 (ipykernel)",
   "language": "python",
   "name": "python3"
  },
  "language_info": {
   "codemirror_mode": {
    "name": "ipython",
    "version": 3
   },
   "file_extension": ".py",
   "mimetype": "text/x-python",
   "name": "python",
   "nbconvert_exporter": "python",
   "pygments_lexer": "ipython3",
   "version": "3.10.4"
  }
 },
 "nbformat": 4,
 "nbformat_minor": 4
}
